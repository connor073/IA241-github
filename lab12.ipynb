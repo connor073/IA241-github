{
 "cells": [
  {
   "cell_type": "markdown",
   "id": "881e2461",
   "metadata": {},
   "source": [
    "# lab12"
   ]
  },
  {
   "cell_type": "code",
   "execution_count": 1,
   "id": "2171bd07",
   "metadata": {},
   "outputs": [
    {
     "ename": "ImportError",
     "evalue": "Missing optional dependency 'xlrd'. Install xlrd >= 1.0.0 for Excel support Use pip or conda to install xlrd.",
     "output_type": "error",
     "traceback": [
      "\u001b[0;31m---------------------------------------------------------------------------\u001b[0m",
      "\u001b[0;31mModuleNotFoundError\u001b[0m                       Traceback (most recent call last)",
      "File \u001b[0;32m~/anaconda3/envs/python3/lib/python3.10/site-packages/pandas/compat/_optional.py:141\u001b[0m, in \u001b[0;36mimport_optional_dependency\u001b[0;34m(name, extra, errors, min_version)\u001b[0m\n\u001b[1;32m    140\u001b[0m \u001b[38;5;28;01mtry\u001b[39;00m:\n\u001b[0;32m--> 141\u001b[0m     module \u001b[38;5;241m=\u001b[39m \u001b[43mimportlib\u001b[49m\u001b[38;5;241;43m.\u001b[39;49m\u001b[43mimport_module\u001b[49m\u001b[43m(\u001b[49m\u001b[43mname\u001b[49m\u001b[43m)\u001b[49m\n\u001b[1;32m    142\u001b[0m \u001b[38;5;28;01mexcept\u001b[39;00m \u001b[38;5;167;01mImportError\u001b[39;00m:\n",
      "File \u001b[0;32m~/anaconda3/envs/python3/lib/python3.10/importlib/__init__.py:126\u001b[0m, in \u001b[0;36mimport_module\u001b[0;34m(name, package)\u001b[0m\n\u001b[1;32m    125\u001b[0m         level \u001b[38;5;241m+\u001b[39m\u001b[38;5;241m=\u001b[39m \u001b[38;5;241m1\u001b[39m\n\u001b[0;32m--> 126\u001b[0m \u001b[38;5;28;01mreturn\u001b[39;00m \u001b[43m_bootstrap\u001b[49m\u001b[38;5;241;43m.\u001b[39;49m\u001b[43m_gcd_import\u001b[49m\u001b[43m(\u001b[49m\u001b[43mname\u001b[49m\u001b[43m[\u001b[49m\u001b[43mlevel\u001b[49m\u001b[43m:\u001b[49m\u001b[43m]\u001b[49m\u001b[43m,\u001b[49m\u001b[43m \u001b[49m\u001b[43mpackage\u001b[49m\u001b[43m,\u001b[49m\u001b[43m \u001b[49m\u001b[43mlevel\u001b[49m\u001b[43m)\u001b[49m\n",
      "File \u001b[0;32m<frozen importlib._bootstrap>:1050\u001b[0m, in \u001b[0;36m_gcd_import\u001b[0;34m(name, package, level)\u001b[0m\n",
      "File \u001b[0;32m<frozen importlib._bootstrap>:1027\u001b[0m, in \u001b[0;36m_find_and_load\u001b[0;34m(name, import_)\u001b[0m\n",
      "File \u001b[0;32m<frozen importlib._bootstrap>:1004\u001b[0m, in \u001b[0;36m_find_and_load_unlocked\u001b[0;34m(name, import_)\u001b[0m\n",
      "\u001b[0;31mModuleNotFoundError\u001b[0m: No module named 'xlrd'",
      "\nDuring handling of the above exception, another exception occurred:\n",
      "\u001b[0;31mImportError\u001b[0m                               Traceback (most recent call last)",
      "Cell \u001b[0;32mIn[1], line 3\u001b[0m\n\u001b[1;32m      1\u001b[0m \u001b[38;5;28;01mimport\u001b[39;00m \u001b[38;5;21;01mpandas\u001b[39;00m \u001b[38;5;28;01mas\u001b[39;00m \u001b[38;5;21;01mpd\u001b[39;00m\n\u001b[0;32m----> 3\u001b[0m df \u001b[38;5;241m=\u001b[39m \u001b[43mpd\u001b[49m\u001b[38;5;241;43m.\u001b[39;49m\u001b[43mread_excel\u001b[49m\u001b[43m(\u001b[49m\u001b[38;5;124;43m'\u001b[39;49m\u001b[38;5;124;43ms3://connor-hicks-241-2023/house_price.xls\u001b[39;49m\u001b[38;5;124;43m'\u001b[39;49m\u001b[43m)\u001b[49m\n\u001b[1;32m      5\u001b[0m df\u001b[38;5;241m.\u001b[39mhead()\n",
      "File \u001b[0;32m~/anaconda3/envs/python3/lib/python3.10/site-packages/pandas/util/_decorators.py:211\u001b[0m, in \u001b[0;36mdeprecate_kwarg.<locals>._deprecate_kwarg.<locals>.wrapper\u001b[0;34m(*args, **kwargs)\u001b[0m\n\u001b[1;32m    209\u001b[0m     \u001b[38;5;28;01melse\u001b[39;00m:\n\u001b[1;32m    210\u001b[0m         kwargs[new_arg_name] \u001b[38;5;241m=\u001b[39m new_arg_value\n\u001b[0;32m--> 211\u001b[0m \u001b[38;5;28;01mreturn\u001b[39;00m \u001b[43mfunc\u001b[49m\u001b[43m(\u001b[49m\u001b[38;5;241;43m*\u001b[39;49m\u001b[43margs\u001b[49m\u001b[43m,\u001b[49m\u001b[43m \u001b[49m\u001b[38;5;241;43m*\u001b[39;49m\u001b[38;5;241;43m*\u001b[39;49m\u001b[43mkwargs\u001b[49m\u001b[43m)\u001b[49m\n",
      "File \u001b[0;32m~/anaconda3/envs/python3/lib/python3.10/site-packages/pandas/util/_decorators.py:331\u001b[0m, in \u001b[0;36mdeprecate_nonkeyword_arguments.<locals>.decorate.<locals>.wrapper\u001b[0;34m(*args, **kwargs)\u001b[0m\n\u001b[1;32m    325\u001b[0m \u001b[38;5;28;01mif\u001b[39;00m \u001b[38;5;28mlen\u001b[39m(args) \u001b[38;5;241m>\u001b[39m num_allow_args:\n\u001b[1;32m    326\u001b[0m     warnings\u001b[38;5;241m.\u001b[39mwarn(\n\u001b[1;32m    327\u001b[0m         msg\u001b[38;5;241m.\u001b[39mformat(arguments\u001b[38;5;241m=\u001b[39m_format_argument_list(allow_args)),\n\u001b[1;32m    328\u001b[0m         \u001b[38;5;167;01mFutureWarning\u001b[39;00m,\n\u001b[1;32m    329\u001b[0m         stacklevel\u001b[38;5;241m=\u001b[39mfind_stack_level(),\n\u001b[1;32m    330\u001b[0m     )\n\u001b[0;32m--> 331\u001b[0m \u001b[38;5;28;01mreturn\u001b[39;00m \u001b[43mfunc\u001b[49m\u001b[43m(\u001b[49m\u001b[38;5;241;43m*\u001b[39;49m\u001b[43margs\u001b[49m\u001b[43m,\u001b[49m\u001b[43m \u001b[49m\u001b[38;5;241;43m*\u001b[39;49m\u001b[38;5;241;43m*\u001b[39;49m\u001b[43mkwargs\u001b[49m\u001b[43m)\u001b[49m\n",
      "File \u001b[0;32m~/anaconda3/envs/python3/lib/python3.10/site-packages/pandas/io/excel/_base.py:482\u001b[0m, in \u001b[0;36mread_excel\u001b[0;34m(io, sheet_name, header, names, index_col, usecols, squeeze, dtype, engine, converters, true_values, false_values, skiprows, nrows, na_values, keep_default_na, na_filter, verbose, parse_dates, date_parser, thousands, decimal, comment, skipfooter, convert_float, mangle_dupe_cols, storage_options)\u001b[0m\n\u001b[1;32m    480\u001b[0m \u001b[38;5;28;01mif\u001b[39;00m \u001b[38;5;129;01mnot\u001b[39;00m \u001b[38;5;28misinstance\u001b[39m(io, ExcelFile):\n\u001b[1;32m    481\u001b[0m     should_close \u001b[38;5;241m=\u001b[39m \u001b[38;5;28;01mTrue\u001b[39;00m\n\u001b[0;32m--> 482\u001b[0m     io \u001b[38;5;241m=\u001b[39m \u001b[43mExcelFile\u001b[49m\u001b[43m(\u001b[49m\u001b[43mio\u001b[49m\u001b[43m,\u001b[49m\u001b[43m \u001b[49m\u001b[43mstorage_options\u001b[49m\u001b[38;5;241;43m=\u001b[39;49m\u001b[43mstorage_options\u001b[49m\u001b[43m,\u001b[49m\u001b[43m \u001b[49m\u001b[43mengine\u001b[49m\u001b[38;5;241;43m=\u001b[39;49m\u001b[43mengine\u001b[49m\u001b[43m)\u001b[49m\n\u001b[1;32m    483\u001b[0m \u001b[38;5;28;01melif\u001b[39;00m engine \u001b[38;5;129;01mand\u001b[39;00m engine \u001b[38;5;241m!=\u001b[39m io\u001b[38;5;241m.\u001b[39mengine:\n\u001b[1;32m    484\u001b[0m     \u001b[38;5;28;01mraise\u001b[39;00m \u001b[38;5;167;01mValueError\u001b[39;00m(\n\u001b[1;32m    485\u001b[0m         \u001b[38;5;124m\"\u001b[39m\u001b[38;5;124mEngine should not be specified when passing \u001b[39m\u001b[38;5;124m\"\u001b[39m\n\u001b[1;32m    486\u001b[0m         \u001b[38;5;124m\"\u001b[39m\u001b[38;5;124man ExcelFile - ExcelFile already has the engine set\u001b[39m\u001b[38;5;124m\"\u001b[39m\n\u001b[1;32m    487\u001b[0m     )\n",
      "File \u001b[0;32m~/anaconda3/envs/python3/lib/python3.10/site-packages/pandas/io/excel/_base.py:1695\u001b[0m, in \u001b[0;36mExcelFile.__init__\u001b[0;34m(self, path_or_buffer, engine, storage_options)\u001b[0m\n\u001b[1;32m   1692\u001b[0m \u001b[38;5;28mself\u001b[39m\u001b[38;5;241m.\u001b[39mengine \u001b[38;5;241m=\u001b[39m engine\n\u001b[1;32m   1693\u001b[0m \u001b[38;5;28mself\u001b[39m\u001b[38;5;241m.\u001b[39mstorage_options \u001b[38;5;241m=\u001b[39m storage_options\n\u001b[0;32m-> 1695\u001b[0m \u001b[38;5;28mself\u001b[39m\u001b[38;5;241m.\u001b[39m_reader \u001b[38;5;241m=\u001b[39m \u001b[38;5;28;43mself\u001b[39;49m\u001b[38;5;241;43m.\u001b[39;49m\u001b[43m_engines\u001b[49m\u001b[43m[\u001b[49m\u001b[43mengine\u001b[49m\u001b[43m]\u001b[49m\u001b[43m(\u001b[49m\u001b[38;5;28;43mself\u001b[39;49m\u001b[38;5;241;43m.\u001b[39;49m\u001b[43m_io\u001b[49m\u001b[43m,\u001b[49m\u001b[43m \u001b[49m\u001b[43mstorage_options\u001b[49m\u001b[38;5;241;43m=\u001b[39;49m\u001b[43mstorage_options\u001b[49m\u001b[43m)\u001b[49m\n",
      "File \u001b[0;32m~/anaconda3/envs/python3/lib/python3.10/site-packages/pandas/io/excel/_xlrd.py:34\u001b[0m, in \u001b[0;36mXlrdReader.__init__\u001b[0;34m(self, filepath_or_buffer, storage_options)\u001b[0m\n\u001b[1;32m     24\u001b[0m \u001b[38;5;250m\u001b[39m\u001b[38;5;124;03m\"\"\"\u001b[39;00m\n\u001b[1;32m     25\u001b[0m \u001b[38;5;124;03mReader using xlrd engine.\u001b[39;00m\n\u001b[1;32m     26\u001b[0m \n\u001b[0;32m   (...)\u001b[0m\n\u001b[1;32m     31\u001b[0m \u001b[38;5;124;03m{storage_options}\u001b[39;00m\n\u001b[1;32m     32\u001b[0m \u001b[38;5;124;03m\"\"\"\u001b[39;00m\n\u001b[1;32m     33\u001b[0m err_msg \u001b[38;5;241m=\u001b[39m \u001b[38;5;124m\"\u001b[39m\u001b[38;5;124mInstall xlrd >= 1.0.0 for Excel support\u001b[39m\u001b[38;5;124m\"\u001b[39m\n\u001b[0;32m---> 34\u001b[0m \u001b[43mimport_optional_dependency\u001b[49m\u001b[43m(\u001b[49m\u001b[38;5;124;43m\"\u001b[39;49m\u001b[38;5;124;43mxlrd\u001b[39;49m\u001b[38;5;124;43m\"\u001b[39;49m\u001b[43m,\u001b[49m\u001b[43m \u001b[49m\u001b[43mextra\u001b[49m\u001b[38;5;241;43m=\u001b[39;49m\u001b[43merr_msg\u001b[49m\u001b[43m)\u001b[49m\n\u001b[1;32m     35\u001b[0m \u001b[38;5;28msuper\u001b[39m()\u001b[38;5;241m.\u001b[39m\u001b[38;5;21m__init__\u001b[39m(filepath_or_buffer, storage_options\u001b[38;5;241m=\u001b[39mstorage_options)\n",
      "File \u001b[0;32m~/anaconda3/envs/python3/lib/python3.10/site-packages/pandas/compat/_optional.py:144\u001b[0m, in \u001b[0;36mimport_optional_dependency\u001b[0;34m(name, extra, errors, min_version)\u001b[0m\n\u001b[1;32m    142\u001b[0m \u001b[38;5;28;01mexcept\u001b[39;00m \u001b[38;5;167;01mImportError\u001b[39;00m:\n\u001b[1;32m    143\u001b[0m     \u001b[38;5;28;01mif\u001b[39;00m errors \u001b[38;5;241m==\u001b[39m \u001b[38;5;124m\"\u001b[39m\u001b[38;5;124mraise\u001b[39m\u001b[38;5;124m\"\u001b[39m:\n\u001b[0;32m--> 144\u001b[0m         \u001b[38;5;28;01mraise\u001b[39;00m \u001b[38;5;167;01mImportError\u001b[39;00m(msg)\n\u001b[1;32m    145\u001b[0m     \u001b[38;5;28;01melse\u001b[39;00m:\n\u001b[1;32m    146\u001b[0m         \u001b[38;5;28;01mreturn\u001b[39;00m \u001b[38;5;28;01mNone\u001b[39;00m\n",
      "\u001b[0;31mImportError\u001b[0m: Missing optional dependency 'xlrd'. Install xlrd >= 1.0.0 for Excel support Use pip or conda to install xlrd."
     ]
    }
   ],
   "source": [
    "import pandas as pd\n",
    "\n",
    "df = pd.read_excel('s3://connor-hicks-241-2023/house_price.xls')\n",
    "\n",
    "df.head()"
   ]
  },
  {
   "cell_type": "code",
   "execution_count": 2,
   "id": "51d73551",
   "metadata": {},
   "outputs": [
    {
     "name": "stdout",
     "output_type": "stream",
     "text": [
      "Looking in indexes: https://pypi.org/simple, https://pip.repos.neuron.amazonaws.com\n",
      "Collecting xlrd\n",
      "  Downloading xlrd-2.0.1-py2.py3-none-any.whl (96 kB)\n",
      "\u001b[2K     \u001b[90m━━━━━━━━━━━━━━━━━━━━━━━━━━━━━━━━━━━━━━━━\u001b[0m \u001b[32m96.5/96.5 kB\u001b[0m \u001b[31m4.7 MB/s\u001b[0m eta \u001b[36m0:00:00\u001b[0m\n",
      "\u001b[?25hInstalling collected packages: xlrd\n",
      "Successfully installed xlrd-2.0.1\n"
     ]
    }
   ],
   "source": [
    "!pip install xlrd"
   ]
  },
  {
   "cell_type": "code",
   "execution_count": 3,
   "id": "ae7b19f3",
   "metadata": {},
   "outputs": [
    {
     "data": {
      "text/html": [
       "<div>\n",
       "<style scoped>\n",
       "    .dataframe tbody tr th:only-of-type {\n",
       "        vertical-align: middle;\n",
       "    }\n",
       "\n",
       "    .dataframe tbody tr th {\n",
       "        vertical-align: top;\n",
       "    }\n",
       "\n",
       "    .dataframe thead th {\n",
       "        text-align: right;\n",
       "    }\n",
       "</style>\n",
       "<table border=\"1\" class=\"dataframe\">\n",
       "  <thead>\n",
       "    <tr style=\"text-align: right;\">\n",
       "      <th></th>\n",
       "      <th>ID</th>\n",
       "      <th>price</th>\n",
       "      <th>bedroom</th>\n",
       "      <th>bathroom</th>\n",
       "      <th>house_type</th>\n",
       "      <th>lot_size</th>\n",
       "      <th>built_in</th>\n",
       "      <th>area</th>\n",
       "      <th>days</th>\n",
       "      <th>views</th>\n",
       "    </tr>\n",
       "  </thead>\n",
       "  <tbody>\n",
       "    <tr>\n",
       "      <th>0</th>\n",
       "      <td>993</td>\n",
       "      <td>229900</td>\n",
       "      <td>3</td>\n",
       "      <td>2</td>\n",
       "      <td>single-family home</td>\n",
       "      <td>10018</td>\n",
       "      <td>2002</td>\n",
       "      <td>1541</td>\n",
       "      <td>77</td>\n",
       "      <td>1357</td>\n",
       "    </tr>\n",
       "    <tr>\n",
       "      <th>1</th>\n",
       "      <td>994</td>\n",
       "      <td>149900</td>\n",
       "      <td>4</td>\n",
       "      <td>2</td>\n",
       "      <td>single-family home</td>\n",
       "      <td>8712</td>\n",
       "      <td>1975</td>\n",
       "      <td>1810</td>\n",
       "      <td>5</td>\n",
       "      <td>1282</td>\n",
       "    </tr>\n",
       "    <tr>\n",
       "      <th>2</th>\n",
       "      <td>995</td>\n",
       "      <td>229900</td>\n",
       "      <td>3</td>\n",
       "      <td>2</td>\n",
       "      <td>single-family home</td>\n",
       "      <td>13504</td>\n",
       "      <td>1988</td>\n",
       "      <td>1456</td>\n",
       "      <td>76</td>\n",
       "      <td>947</td>\n",
       "    </tr>\n",
       "    <tr>\n",
       "      <th>3</th>\n",
       "      <td>996</td>\n",
       "      <td>359000</td>\n",
       "      <td>5</td>\n",
       "      <td>4</td>\n",
       "      <td>single-family home</td>\n",
       "      <td>10130</td>\n",
       "      <td>1997</td>\n",
       "      <td>2903</td>\n",
       "      <td>79</td>\n",
       "      <td>951</td>\n",
       "    </tr>\n",
       "    <tr>\n",
       "      <th>4</th>\n",
       "      <td>999</td>\n",
       "      <td>394000</td>\n",
       "      <td>3</td>\n",
       "      <td>2</td>\n",
       "      <td>single-family home</td>\n",
       "      <td>18295</td>\n",
       "      <td>2001</td>\n",
       "      <td>2616</td>\n",
       "      <td>73</td>\n",
       "      <td>709</td>\n",
       "    </tr>\n",
       "  </tbody>\n",
       "</table>\n",
       "</div>"
      ],
      "text/plain": [
       "    ID   price  bedroom  bathroom          house_type  lot_size  built_in  \\\n",
       "0  993  229900        3         2  single-family home     10018      2002   \n",
       "1  994  149900        4         2  single-family home      8712      1975   \n",
       "2  995  229900        3         2  single-family home     13504      1988   \n",
       "3  996  359000        5         4  single-family home     10130      1997   \n",
       "4  999  394000        3         2  single-family home     18295      2001   \n",
       "\n",
       "   area  days  views  \n",
       "0  1541    77   1357  \n",
       "1  1810     5   1282  \n",
       "2  1456    76    947  \n",
       "3  2903    79    951  \n",
       "4  2616    73    709  "
      ]
     },
     "execution_count": 3,
     "metadata": {},
     "output_type": "execute_result"
    }
   ],
   "source": [
    "import pandas as pd\n",
    "\n",
    "df = pd.read_excel('s3://connor-hicks-241-2023/house_price.xls')\n",
    "\n",
    "df.head()"
   ]
  },
  {
   "cell_type": "markdown",
   "id": "07e40bf3",
   "metadata": {},
   "source": [
    "## 3.1"
   ]
  },
  {
   "cell_type": "code",
   "execution_count": 10,
   "id": "455b3a37",
   "metadata": {},
   "outputs": [
    {
     "data": {
      "text/html": [
       "<div>\n",
       "<style scoped>\n",
       "    .dataframe tbody tr th:only-of-type {\n",
       "        vertical-align: middle;\n",
       "    }\n",
       "\n",
       "    .dataframe tbody tr th {\n",
       "        vertical-align: top;\n",
       "    }\n",
       "\n",
       "    .dataframe thead th {\n",
       "        text-align: right;\n",
       "    }\n",
       "</style>\n",
       "<table border=\"1\" class=\"dataframe\">\n",
       "  <thead>\n",
       "    <tr style=\"text-align: right;\">\n",
       "      <th></th>\n",
       "      <th>ID</th>\n",
       "      <th>price</th>\n",
       "      <th>bedroom</th>\n",
       "      <th>bathroom</th>\n",
       "      <th>house_type</th>\n",
       "      <th>lot_size</th>\n",
       "      <th>built_in</th>\n",
       "      <th>area</th>\n",
       "      <th>days</th>\n",
       "      <th>views</th>\n",
       "      <th>UNIT_PRICE</th>\n",
       "    </tr>\n",
       "  </thead>\n",
       "  <tbody>\n",
       "    <tr>\n",
       "      <th>0</th>\n",
       "      <td>993</td>\n",
       "      <td>229900</td>\n",
       "      <td>3</td>\n",
       "      <td>2</td>\n",
       "      <td>single-family home</td>\n",
       "      <td>10018</td>\n",
       "      <td>2002</td>\n",
       "      <td>1541</td>\n",
       "      <td>77</td>\n",
       "      <td>1357</td>\n",
       "      <td>149.188838</td>\n",
       "    </tr>\n",
       "    <tr>\n",
       "      <th>1</th>\n",
       "      <td>994</td>\n",
       "      <td>149900</td>\n",
       "      <td>4</td>\n",
       "      <td>2</td>\n",
       "      <td>single-family home</td>\n",
       "      <td>8712</td>\n",
       "      <td>1975</td>\n",
       "      <td>1810</td>\n",
       "      <td>5</td>\n",
       "      <td>1282</td>\n",
       "      <td>82.817680</td>\n",
       "    </tr>\n",
       "    <tr>\n",
       "      <th>2</th>\n",
       "      <td>995</td>\n",
       "      <td>229900</td>\n",
       "      <td>3</td>\n",
       "      <td>2</td>\n",
       "      <td>single-family home</td>\n",
       "      <td>13504</td>\n",
       "      <td>1988</td>\n",
       "      <td>1456</td>\n",
       "      <td>76</td>\n",
       "      <td>947</td>\n",
       "      <td>157.898352</td>\n",
       "    </tr>\n",
       "    <tr>\n",
       "      <th>3</th>\n",
       "      <td>996</td>\n",
       "      <td>359000</td>\n",
       "      <td>5</td>\n",
       "      <td>4</td>\n",
       "      <td>single-family home</td>\n",
       "      <td>10130</td>\n",
       "      <td>1997</td>\n",
       "      <td>2903</td>\n",
       "      <td>79</td>\n",
       "      <td>951</td>\n",
       "      <td>123.665174</td>\n",
       "    </tr>\n",
       "    <tr>\n",
       "      <th>4</th>\n",
       "      <td>999</td>\n",
       "      <td>394000</td>\n",
       "      <td>3</td>\n",
       "      <td>2</td>\n",
       "      <td>single-family home</td>\n",
       "      <td>18295</td>\n",
       "      <td>2001</td>\n",
       "      <td>2616</td>\n",
       "      <td>73</td>\n",
       "      <td>709</td>\n",
       "      <td>150.611621</td>\n",
       "    </tr>\n",
       "    <tr>\n",
       "      <th>5</th>\n",
       "      <td>1000</td>\n",
       "      <td>349900</td>\n",
       "      <td>3</td>\n",
       "      <td>2</td>\n",
       "      <td>single-family home</td>\n",
       "      <td>204732</td>\n",
       "      <td>1967</td>\n",
       "      <td>3850</td>\n",
       "      <td>42</td>\n",
       "      <td>366</td>\n",
       "      <td>90.883117</td>\n",
       "    </tr>\n",
       "    <tr>\n",
       "      <th>6</th>\n",
       "      <td>1002</td>\n",
       "      <td>148500</td>\n",
       "      <td>3</td>\n",
       "      <td>1</td>\n",
       "      <td>single-family home</td>\n",
       "      <td>9147</td>\n",
       "      <td>1959</td>\n",
       "      <td>1000</td>\n",
       "      <td>17</td>\n",
       "      <td>328</td>\n",
       "      <td>148.500000</td>\n",
       "    </tr>\n",
       "    <tr>\n",
       "      <th>7</th>\n",
       "      <td>1003</td>\n",
       "      <td>134900</td>\n",
       "      <td>2</td>\n",
       "      <td>2</td>\n",
       "      <td>townhouse</td>\n",
       "      <td>2300</td>\n",
       "      <td>1994</td>\n",
       "      <td>920</td>\n",
       "      <td>56</td>\n",
       "      <td>328</td>\n",
       "      <td>146.630435</td>\n",
       "    </tr>\n",
       "    <tr>\n",
       "      <th>8</th>\n",
       "      <td>1004</td>\n",
       "      <td>265000</td>\n",
       "      <td>3</td>\n",
       "      <td>3</td>\n",
       "      <td>single-family home</td>\n",
       "      <td>13939</td>\n",
       "      <td>1998</td>\n",
       "      <td>2705</td>\n",
       "      <td>12</td>\n",
       "      <td>362</td>\n",
       "      <td>97.966728</td>\n",
       "    </tr>\n",
       "    <tr>\n",
       "      <th>9</th>\n",
       "      <td>1005</td>\n",
       "      <td>149900</td>\n",
       "      <td>4</td>\n",
       "      <td>3</td>\n",
       "      <td>townhouse</td>\n",
       "      <td>2291</td>\n",
       "      <td>1999</td>\n",
       "      <td>1440</td>\n",
       "      <td>4</td>\n",
       "      <td>137</td>\n",
       "      <td>104.097222</td>\n",
       "    </tr>\n",
       "  </tbody>\n",
       "</table>\n",
       "</div>"
      ],
      "text/plain": [
       "     ID   price  bedroom  bathroom          house_type  lot_size  built_in  \\\n",
       "0   993  229900        3         2  single-family home     10018      2002   \n",
       "1   994  149900        4         2  single-family home      8712      1975   \n",
       "2   995  229900        3         2  single-family home     13504      1988   \n",
       "3   996  359000        5         4  single-family home     10130      1997   \n",
       "4   999  394000        3         2  single-family home     18295      2001   \n",
       "5  1000  349900        3         2  single-family home    204732      1967   \n",
       "6  1002  148500        3         1  single-family home      9147      1959   \n",
       "7  1003  134900        2         2           townhouse      2300      1994   \n",
       "8  1004  265000        3         3  single-family home     13939      1998   \n",
       "9  1005  149900        4         3           townhouse      2291      1999   \n",
       "\n",
       "   area  days  views  UNIT_PRICE  \n",
       "0  1541    77   1357  149.188838  \n",
       "1  1810     5   1282   82.817680  \n",
       "2  1456    76    947  157.898352  \n",
       "3  2903    79    951  123.665174  \n",
       "4  2616    73    709  150.611621  \n",
       "5  3850    42    366   90.883117  \n",
       "6  1000    17    328  148.500000  \n",
       "7   920    56    328  146.630435  \n",
       "8  2705    12    362   97.966728  \n",
       "9  1440     4    137  104.097222  "
      ]
     },
     "execution_count": 10,
     "metadata": {},
     "output_type": "execute_result"
    }
   ],
   "source": [
    "df['UNIT_PRICE'] = df['price'] / df['area']\n",
    "df.head(10)"
   ]
  },
  {
   "cell_type": "markdown",
   "id": "880bcdad",
   "metadata": {},
   "source": [
    "## 3.2"
   ]
  },
  {
   "cell_type": "code",
   "execution_count": 12,
   "id": "421cf086",
   "metadata": {},
   "outputs": [
    {
     "data": {
      "text/plain": [
       "single-family home    36\n",
       "townhouse              3\n",
       "condo                  2\n",
       "Name: house_type, dtype: int64"
      ]
     },
     "execution_count": 12,
     "metadata": {},
     "output_type": "execute_result"
    }
   ],
   "source": [
    "df['house_type'].value_counts()"
   ]
  },
  {
   "cell_type": "markdown",
   "id": "d04e3477",
   "metadata": {},
   "source": [
    "## 3.3"
   ]
  },
  {
   "cell_type": "code",
   "execution_count": 18,
   "id": "f6bff050",
   "metadata": {},
   "outputs": [
    {
     "name": "stdout",
     "output_type": "stream",
     "text": [
      "the average price is $383,645\n"
     ]
    }
   ],
   "source": [
    "print('the average price is ${:,g}'.format(df.loc[df['bathroom'] > 2]['price'].mean()))"
   ]
  },
  {
   "cell_type": "markdown",
   "id": "66e7146d",
   "metadata": {},
   "source": [
    "## 3.4"
   ]
  },
  {
   "cell_type": "code",
   "execution_count": 22,
   "id": "faa52774",
   "metadata": {},
   "outputs": [
    {
     "name": "stdout",
     "output_type": "stream",
     "text": [
      "mean price is $167.459\n"
     ]
    }
   ],
   "source": [
    "print('mean price is ${:,g}'.format(df['UNIT_PRICE'].mean()))"
   ]
  },
  {
   "cell_type": "code",
   "execution_count": 21,
   "id": "c920e8c3",
   "metadata": {},
   "outputs": [
    {
     "name": "stdout",
     "output_type": "stream",
     "text": [
      "median price is $130.134\n"
     ]
    }
   ],
   "source": [
    "print('median price is ${:,g}'.format(df['UNIT_PRICE'].median()))"
   ]
  },
  {
   "cell_type": "markdown",
   "id": "471ede2c",
   "metadata": {},
   "source": [
    "## 3.5"
   ]
  },
  {
   "cell_type": "code",
   "execution_count": 24,
   "id": "a88a716e",
   "metadata": {},
   "outputs": [
    {
     "data": {
      "text/plain": [
       "house_type\n",
       "condo                 113.666272\n",
       "single-family home    173.472594\n",
       "townhouse             131.162407\n",
       "Name: UNIT_PRICE, dtype: float64"
      ]
     },
     "execution_count": 24,
     "metadata": {},
     "output_type": "execute_result"
    }
   ],
   "source": [
    "df.groupby('house_type').mean()['UNIT_PRICE']"
   ]
  },
  {
   "cell_type": "markdown",
   "id": "61bb0a51",
   "metadata": {},
   "source": [
    "## 3.6"
   ]
  },
  {
   "cell_type": "code",
   "execution_count": 25,
   "id": "80738cc6",
   "metadata": {},
   "outputs": [],
   "source": [
    "from scipy import stats"
   ]
  },
  {
   "cell_type": "code",
   "execution_count": 26,
   "id": "e7755390",
   "metadata": {},
   "outputs": [],
   "source": [
    "model = stats.linregress(df['area'],df['price'])"
   ]
  },
  {
   "cell_type": "code",
   "execution_count": 28,
   "id": "5506f9b9",
   "metadata": {},
   "outputs": [
    {
     "name": "stdout",
     "output_type": "stream",
     "text": [
      "slope is 79.954957\n",
      "intercept is 156254.762451\n",
      "p value is 0.001340\n",
      "r squared is 0.234390\n"
     ]
    }
   ],
   "source": [
    "print('slope is {:2f}'.format(model.slope))\n",
    "print('intercept is {:2f}'.format(model.intercept))\n",
    "print('p value is {:2f}'.format(model.pvalue))\n",
    "print('r squared is {:2f}'.format(model.rvalue ** 2))"
   ]
  },
  {
   "cell_type": "markdown",
   "id": "1d3cb626",
   "metadata": {},
   "source": [
    "## 3.7"
   ]
  },
  {
   "cell_type": "code",
   "execution_count": 29,
   "id": "a5e869cb",
   "metadata": {},
   "outputs": [
    {
     "name": "stdout",
     "output_type": "stream",
     "text": [
      "2,000 sqft house is $316,165\n"
     ]
    }
   ],
   "source": [
    "print('2,000 sqft house is ${:,g}'.format(2000 * model.slope + model.intercept))"
   ]
  },
  {
   "cell_type": "code",
   "execution_count": null,
   "id": "a5b16324",
   "metadata": {},
   "outputs": [],
   "source": []
  }
 ],
 "metadata": {
  "kernelspec": {
   "display_name": "conda_python3",
   "language": "python",
   "name": "conda_python3"
  },
  "language_info": {
   "codemirror_mode": {
    "name": "ipython",
    "version": 3
   },
   "file_extension": ".py",
   "mimetype": "text/x-python",
   "name": "python",
   "nbconvert_exporter": "python",
   "pygments_lexer": "ipython3",
   "version": "3.10.8"
  }
 },
 "nbformat": 4,
 "nbformat_minor": 5
}
